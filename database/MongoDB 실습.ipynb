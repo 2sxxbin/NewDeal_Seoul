{
 "cells": [
  {
   "cell_type": "markdown",
   "id": "a9f4c145",
   "metadata": {},
   "source": [
    "# 1) 'mydb' 데이터베이스 및 'emp' 컬렉션 생성"
   ]
  },
  {
   "cell_type": "markdown",
   "id": "e44822ad",
   "metadata": {},
   "source": [
    "**DATABASE 생성**"
   ]
  },
  {
   "cell_type": "code",
   "execution_count": null,
   "id": "91eb6b5a",
   "metadata": {},
   "outputs": [],
   "source": [
    "C:\\windows\\system32>mongo\n",
    "The server generated these startup warnings when booting:\n",
    "        2022-08-10T19:37:57.414+09:00: Access control is not enabled for the database. Read and write access to data and configuration is unrestricted\n",
    "---\n",
    "MongoDB Enterprise > show dbs\n",
    "admin   0.000GB\n",
    "config  0.000GB\n",
    "local   0.000GB\n",
    "\n",
    "MongoDB Enterprise > use mydb\n",
    "switched to db mydb\n",
    "\n",
    "MongoDB Enterprise > show dbs\n",
    "admin   0.000GB\n",
    "config  0.000GB\n",
    "local   0.000GB"
   ]
  },
  {
   "cell_type": "markdown",
   "id": "cef00740",
   "metadata": {},
   "source": [
    "**Collection 생성**"
   ]
  },
  {
   "cell_type": "code",
   "execution_count": null,
   "id": "a5b1b044",
   "metadata": {},
   "outputs": [],
   "source": [
    "MongoDB Enterprise > db.createCollection('emp')\n",
    "{ \"ok\" : 1 }\n",
    "\n",
    "MongoDB Enterprise > show dbs\n",
    "admin   0.000GB\n",
    "config  0.000GB\n",
    "local   0.000GB\n",
    "mydb    0.000GB\n",
    "\n",
    "MongoDB Enterprise > show collections\n",
    "emp\n",
    "\n",
    "MongoDB Enterprise > db.emp.find()"
   ]
  },
  {
   "cell_type": "markdown",
   "id": "3709e3b7",
   "metadata": {},
   "source": [
    "# 2) 'emp' 컬렉션 Document INSERT"
   ]
  },
  {
   "cell_type": "code",
   "execution_count": null,
   "id": "86ac4f8a",
   "metadata": {},
   "outputs": [],
   "source": [
    "MongoDB Enterprise > show collections\n",
    "emp\n",
    "\n",
    "MongoDB Enterprise > db.emp.find()\n",
    "\n",
    "MongoDB Enterprise > db.emp.insert({name:'KING', birthday:1981-05-01, hp:\"010-1234-5678\", status:\"1\"});\n",
    "WriteResult({ \"nInserted\" : 1 })\n",
    "\n",
    "MongoDB Enterprise > db.emp.find()\n",
    "{ \"_id\" : ObjectId(\"62f451aafba69c083820ce45\"), \"name\" : \"KING\", \"birthday\" : 1975, \"hp\" : \"010-1234-5678\", \"status\" : \"1\" }\n",
    "\n",
    "MongoDB Enterprise > db.emp.insertMany(\n",
    "... [\n",
    "... {name:\"MARTIN\", birthday:1971-04-11, hp:\"010-4312-7856\", status:\"2\"},\n",
    "... {name:\"ALLEN\", birthday:1983-06-21, hp:\"010-5678-1234\", status:\"1\"},\n",
    "... ]\n",
    "... );\n",
    "{\n",
    "        \"acknowledged\" : true,\n",
    "        \"insertedIds\" : [\n",
    "                ObjectId(\"62f4524ffba69c083820ce46\"),\n",
    "                ObjectId(\"62f4524ffba69c083820ce47\")\n",
    "        ]\n",
    "}\n",
    "\n",
    "MongoDB Enterprise > db.emp.find()\n",
    "{ \"_id\" : ObjectId(\"62f451aafba69c083820ce45\"), \"name\" : \"KING\", \"birthday\" : 1975, \"hp\" : \"010-1234-5678\", \"status\" : \"1\" }\n",
    "{ \"_id\" : ObjectId(\"62f4524ffba69c083820ce46\"), \"name\" : \"MARTIN\", \"birthday\" : 1956, \"hp\" : \"010-4312-7856\", \"status\" : \"2\" }\n",
    "{ \"_id\" : ObjectId(\"62f4524ffba69c083820ce47\"), \"name\" : \"ALLEN\", \"birthday\" : 1956, \"hp\" : \"010-5678-1234\", \"status\" : \"1\" }\n",
    "\n",
    "MongoDB Enterprise > db.emp.insert({name:\"SCOTT\", hp:\"010-1212-3434\", dept:\"개발팀\", status:\"1\"});\n",
    "WriteResult({ \"nInserted\" : 1 })\n",
    "\n",
    "MongoDB Enterprise > db.emp.find()\n",
    "{ \"_id\" : ObjectId(\"62f451aafba69c083820ce45\"), \"name\" : \"KING\", \"birthday\" : 1975, \"hp\" : \"010-1234-5678\", \"status\" : \"1\" }\n",
    "{ \"_id\" : ObjectId(\"62f4524ffba69c083820ce46\"), \"name\" : \"MARTIN\", \"birthday\" : 1956, \"hp\" : \"010-4312-7856\", \"status\" : \"2\" }\n",
    "{ \"_id\" : ObjectId(\"62f4524ffba69c083820ce47\"), \"name\" : \"ALLEN\", \"birthday\" : 1956, \"hp\" : \"010-5678-1234\", \"status\" : \"1\" }\n",
    "{ \"_id\" : ObjectId(\"62f452b0fba69c083820ce48\"), \"name\" : \"SCOTT\", \"hp\" : \"010-1212-3434\", \"dept\" : \"개발팀\", \"status\" : \"1\" }\n",
    "\n",
    "MongoDB Enterprise > db.emp.find({status:\"1\"})\n",
    "{ \"_id\" : ObjectId(\"62f451aafba69c083820ce45\"), \"name\" : \"KING\", \"birthday\" : 1975, \"hp\" : \"010-1234-5678\", \"status\" : \"1\" }\n",
    "{ \"_id\" : ObjectId(\"62f4524ffba69c083820ce47\"), \"name\" : \"ALLEN\", \"birthday\" : 1956, \"hp\" : \"010-5678-1234\", \"status\" : \"1\" }\n",
    "{ \"_id\" : ObjectId(\"62f452b0fba69c083820ce48\"), \"name\" : \"SCOTT\", \"hp\" : \"010-1212-3434\", \"dept\" : \"개발팀\", \"status\" : \"1\" }\n",
    "\n",
    "MongoDB Enterprise > db.emp.find({status:\"1\"}, {name:1, hp:1})\n",
    "{ \"_id\" : ObjectId(\"62f451aafba69c083820ce45\"), \"name\" : \"KING\", \"hp\" : \"010-1234-5678\" }\n",
    "{ \"_id\" : ObjectId(\"62f4524ffba69c083820ce47\"), \"name\" : \"ALLEN\", \"hp\" : \"010-5678-1234\" }\n",
    "{ \"_id\" : ObjectId(\"62f452b0fba69c083820ce48\"), \"name\" : \"SCOTT\", \"hp\" : \"010-1212-3434\" }\n",
    "\n",
    "MongoDB Enterprise > db.emp.find({status:\"1\"}, {name:1, hp:1}).sort({name:1})\n",
    "{ \"_id\" : ObjectId(\"62f4524ffba69c083820ce47\"), \"name\" : \"ALLEN\", \"hp\" : \"010-5678-1234\" }\n",
    "{ \"_id\" : ObjectId(\"62f451aafba69c083820ce45\"), \"name\" : \"KING\", \"hp\" : \"010-1234-5678\" }\n",
    "{ \"_id\" : ObjectId(\"62f452b0fba69c083820ce48\"), \"name\" : \"SCOTT\", \"hp\" : \"010-1212-3434\" }"
   ]
  },
  {
   "cell_type": "markdown",
   "id": "8b526807",
   "metadata": {},
   "source": [
    "# 3) 'emp' 컬렉션 Document UPDATE (데이터)"
   ]
  },
  {
   "cell_type": "code",
   "execution_count": null,
   "id": "0d603dc9",
   "metadata": {},
   "outputs": [],
   "source": [
    "MongoDB Enterprise > use mydb\n",
    "switched to db mydb\n",
    "\n",
    "MongoDB Enterprise > show collections\n",
    "emp\n",
    "\n",
    "MongoDB Enterprise > db.emp.find()\n",
    "{ \"_id\" : ObjectId(\"62f451aafba69c083820ce45\"), \"name\" : \"KING\", \"birthday\" : 1975, \"hp\" : \"010-1234-5678\", \"status\" : \"1\" }\n",
    "{ \"_id\" : ObjectId(\"62f4524ffba69c083820ce46\"), \"name\" : \"MARTIN\", \"birthday\" : 1956, \"hp\" : \"010-4312-7856\", \"status\" : \"2\" }\n",
    "{ \"_id\" : ObjectId(\"62f4524ffba69c083820ce47\"), \"name\" : \"ALLEN\", \"birthday\" : 1956, \"hp\" : \"010-5678-1234\", \"status\" : \"1\" }\n",
    "{ \"_id\" : ObjectId(\"62f452b0fba69c083820ce48\"), \"name\" : \"SCOTT\", \"hp\" : \"010-1212-3434\", \"dept\" : \"개발팀\", \"status\" : \"1\" }\n",
    "\n",
    "MongoDB Enterprise > db.emp.update({status:'2'}, {$set: {status:\"임시직\"}} )\n",
    "WriteResult({ \"nMatched\" : 1, \"nUpserted\" : 0, \"nModified\" : 1 })\n",
    "\n",
    "MongoDB Enterprise > db.emp.find()\n",
    "{ \"_id\" : ObjectId(\"62f451aafba69c083820ce45\"), \"name\" : \"KING\", \"birthday\" : 1975, \"hp\" : \"010-1234-5678\", \"status\" : \"1\" }\n",
    "{ \"_id\" : ObjectId(\"62f4524ffba69c083820ce46\"), \"name\" : \"MARTIN\", \"birthday\" : 1956, \"hp\" : \"010-4312-7856\", \"status\" : \"임시직\" }\n",
    "{ \"_id\" : ObjectId(\"62f4524ffba69c083820ce47\"), \"name\" : \"ALLEN\", \"birthday\" : 1956, \"hp\" : \"010-5678-1234\", \"status\" : \"1\" }\n",
    "{ \"_id\" : ObjectId(\"62f452b0fba69c083820ce48\"), \"name\" : \"SCOTT\", \"hp\" : \"010-1212-3434\", \"dept\" : \"개발팀\", \"status\" : \"1\" }\n",
    "\n",
    "MongoDB Enterprise > db.emp.update( {status:\"1\"}, {$set: {status:\"정규직\"}} )\n",
    "WriteResult({ \"nMatched\" : 1, \"nUpserted\" : 0, \"nModified\" : 1 })\n",
    "\n",
    "MongoDB Enterprise > db.emp.find()\n",
    "{ \"_id\" : ObjectId(\"62f451aafba69c083820ce45\"), \"name\" : \"KING\", \"birthday\" : 1975, \"hp\" : \"010-1234-5678\", \"status\" : \"정규직\" }\n",
    "{ \"_id\" : ObjectId(\"62f4524ffba69c083820ce46\"), \"name\" : \"MARTIN\", \"birthday\" : 1956, \"hp\" : \"010-4312-7856\", \"status\" : \"임시직\" }\n",
    "{ \"_id\" : ObjectId(\"62f4524ffba69c083820ce47\"), \"name\" : \"ALLEN\", \"birthday\" : 1956, \"hp\" : \"010-5678-1234\", \"status\" : \"1\" }\n",
    "{ \"_id\" : ObjectId(\"62f452b0fba69c083820ce48\"), \"name\" : \"SCOTT\", \"hp\" : \"010-1212-3434\", \"dept\" : \"개발팀\", \"status\" : \"1\" }\n",
    "\n",
    "MongoDB Enterprise > db.emp.updateMany( {status:'1'}, {$set: {status:\"정규직\"}} )\n",
    "{ \"acknowledged\" : true, \"matchedCount\" : 2, \"modifiedCount\" : 2 }\n",
    "\n",
    "MongoDB Enterprise > db.emp.find()\n",
    "{ \"_id\" : ObjectId(\"62f451aafba69c083820ce45\"), \"name\" : \"KING\", \"birthday\" : 1975, \"hp\" : \"010-1234-5678\", \"status\" : \"정규직\" }\n",
    "{ \"_id\" : ObjectId(\"62f4524ffba69c083820ce46\"), \"name\" : \"MARTIN\", \"birthday\" : 1956, \"hp\" : \"010-4312-7856\", \"status\" : \"임시직\" }\n",
    "{ \"_id\" : ObjectId(\"62f4524ffba69c083820ce47\"), \"name\" : \"ALLEN\", \"birthday\" : 1956, \"hp\" : \"010-5678-1234\", \"status\" : \"정규직\" }\n",
    "{ \"_id\" : ObjectId(\"62f452b0fba69c083820ce48\"), \"name\" : \"SCOTT\", \"hp\" : \"010-1212-3434\", \"dept\" : \"개발팀\", \"status\" : \"정규직\" }"
   ]
  },
  {
   "cell_type": "markdown",
   "id": "d7bbee9c",
   "metadata": {},
   "source": [
    "# 4) 'emp' 컬렉션 Document UPDATE (필드)"
   ]
  },
  {
   "cell_type": "code",
   "execution_count": null,
   "id": "aa0dda8f",
   "metadata": {},
   "outputs": [],
   "source": [
    "MongoDB Enterprise > db.emp.updateMany( {status:\"정규직\"}, {$set: {status:\"1\"}}, {multi:true} )\n",
    "{ \"acknowledged\" : true, \"matchedCount\" : 3, \"modifiedCount\" : 3 }\n",
    "\n",
    "MongoDB Enterprise > db.emp.find()\n",
    "{ \"_id\" : ObjectId(\"62f451aafba69c083820ce45\"), \"name\" : \"KING\", \"birthday\" : 1975, \"hp\" : \"010-1234-5678\", \"status\" : \"1\" }\n",
    "{ \"_id\" : ObjectId(\"62f4524ffba69c083820ce46\"), \"name\" : \"MARTIN\", \"birthday\" : 1956, \"hp\" : \"010-4312-7856\", \"status\" : \"임시직\" }\n",
    "{ \"_id\" : ObjectId(\"62f4524ffba69c083820ce47\"), \"name\" : \"ALLEN\", \"birthday\" : 1956, \"hp\" : \"010-5678-1234\", \"status\" : \"1\" }\n",
    "{ \"_id\" : ObjectId(\"62f452b0fba69c083820ce48\"), \"name\" : \"SCOTT\", \"hp\" : \"010-1212-3434\", \"dept\" : \"개발팀\", \"status\" : \"1\" }\n",
    "\n",
    "MongoDB Enterprise > db.emp.update( {status:\"1\"}, {$set: {status:\"정규직\"}}, {multi:true} )\n",
    "WriteResult({ \"nMatched\" : 3, \"nUpserted\" : 0, \"nModified\" : 3 })\n",
    "\n",
    "MongoDB Enterprise > db.emp.find()\n",
    "{ \"_id\" : ObjectId(\"62f451aafba69c083820ce45\"), \"name\" : \"KING\", \"birthday\" : 1975, \"hp\" : \"010-1234-5678\", \"status\" : \"정규직\" }\n",
    "{ \"_id\" : ObjectId(\"62f4524ffba69c083820ce46\"), \"name\" : \"MARTIN\", \"birthday\" : 1956, \"hp\" : \"010-4312-7856\", \"status\" : \"임시직\" }\n",
    "{ \"_id\" : ObjectId(\"62f4524ffba69c083820ce47\"), \"name\" : \"ALLEN\", \"birthday\" : 1956, \"hp\" : \"010-5678-1234\", \"status\" : \"정규직\" }\n",
    "{ \"_id\" : ObjectId(\"62f452b0fba69c083820ce48\"), \"name\" : \"SCOTT\", \"hp\" : \"010-1212-3434\", \"dept\" : \"개발팀\", \"status\" : \"정규직\" }\n",
    "\n",
    "MongoDB Enterprise > db.emp.update( {}, {$unset: {birthday:1}}, {multi:true} )\n",
    "WriteResult({ \"nMatched\" : 4, \"nUpserted\" : 0, \"nModified\" : 3 })\n",
    "\n",
    "MongoDB Enterprise > db.emp.find()\n",
    "{ \"_id\" : ObjectId(\"62f451aafba69c083820ce45\"), \"name\" : \"KING\", \"hp\" : \"010-1234-5678\", \"status\" : \"정규직\" }\n",
    "{ \"_id\" : ObjectId(\"62f4524ffba69c083820ce46\"), \"name\" : \"MARTIN\", \"hp\" : \"010-4312-7856\", \"status\" : \"임시직\" }\n",
    "{ \"_id\" : ObjectId(\"62f4524ffba69c083820ce47\"), \"name\" : \"ALLEN\", \"hp\" : \"010-5678-1234\", \"status\" : \"정규직\" }\n",
    "{ \"_id\" : ObjectId(\"62f452b0fba69c083820ce48\"), \"name\" : \"SCOTT\", \"hp\" : \"010-1212-3434\", \"dept\" : \"개발팀\", \"status\" : \"정규직\" }\n",
    "\n",
    "MongoDB Enterprise > db.emp.updateMany( {}, {$set: {retire_yn:\"N\"}} )\n",
    "{ \"acknowledged\" : true, \"matchedCount\" : 4, \"modifiedCount\" : 4 }\n",
    "\n",
    "MongoDB Enterprise > db.emp.find()\n",
    "{ \"_id\" : ObjectId(\"62f451aafba69c083820ce45\"), \"name\" : \"KING\", \"hp\" : \"010-1234-5678\", \"status\" : \"정규직\", \"retire_yn\" : \"N\" }\n",
    "{ \"_id\" : ObjectId(\"62f4524ffba69c083820ce46\"), \"name\" : \"MARTIN\", \"hp\" : \"010-4312-7856\", \"status\" : \"임시직\", \"retire_yn\" : \"N\" }\n",
    "{ \"_id\" : ObjectId(\"62f4524ffba69c083820ce47\"), \"name\" : \"ALLEN\", \"hp\" : \"010-5678-1234\", \"status\" : \"정규직\", \"retire_yn\" : \"N\" }\n",
    "{ \"_id\" : ObjectId(\"62f452b0fba69c083820ce48\"), \"name\" : \"SCOTT\", \"hp\" : \"010-1212-3434\", \"dept\" : \"개발팀\", \"status\" : \"정규직\", \"retire_yn\" : \"N\" }"
   ]
  },
  {
   "cell_type": "markdown",
   "id": "a371a34a",
   "metadata": {},
   "source": [
    "# 5) 'emp' 컬렉션 Document DELETE"
   ]
  },
  {
   "cell_type": "code",
   "execution_count": null,
   "id": "6a3c1e3c",
   "metadata": {},
   "outputs": [],
   "source": [
    "MongoDB Enterprise > db.emp.find()\n",
    "{ \"_id\" : ObjectId(\"62f451aafba69c083820ce45\"), \"name\" : \"KING\", \"hp\" : \"010-1234-5678\", \"status\" : \"정규직\", \"retire_yn\" : \"N\" }\n",
    "{ \"_id\" : ObjectId(\"62f4524ffba69c083820ce46\"), \"name\" : \"MARTIN\", \"hp\" : \"010-4312-7856\", \"status\" : \"임시직\", \"retire_yn\" : \"N\" }\n",
    "{ \"_id\" : ObjectId(\"62f4524ffba69c083820ce47\"), \"name\" : \"ALLEN\", \"hp\" : \"010-5678-1234\", \"status\" : \"정규직\", \"retire_yn\" : \"N\" }\n",
    "{ \"_id\" : ObjectId(\"62f452b0fba69c083820ce48\"), \"name\" : \"SCOTT\", \"hp\" : \"010-1212-3434\", \"dept\" : \"개발팀\", \"status\" : \"정규직\", \"retire_yn\" : \"N\" }\n",
    "\n",
    "MongoDB Enterprise > db.emp.find( {hp : /1234-5678/ } )\n",
    "{ \"_id\" : ObjectId(\"62f451aafba69c083820ce45\"), \"name\" : \"KING\", \"hp\" : \"010-1234-5678\", \"status\" : \"정규직\", \"retire_yn\" : \"N\" }\n",
    "\n",
    "MongoDB Enterprise > db.emp.find( {hp : { $regex: /1234-5678/ } } )\n",
    "{ \"_id\" : ObjectId(\"62f451aafba69c083820ce45\"), \"name\" : \"KING\", \"hp\" : \"010-1234-5678\", \"status\" : \"정규직\", \"retire_yn\" : \"N\" }\n",
    "\n",
    "MongoDB Enterprise > db.emp.deleteMany( { hp : {$regex: /1234-5678/ } } )\n",
    "{ \"acknowledged\" : true, \"deletedCount\" : 1 }\n",
    "\n",
    "MongoDB Enterprise > db.emp.find()\n",
    "{ \"_id\" : ObjectId(\"62f4524ffba69c083820ce46\"), \"name\" : \"MARTIN\", \"hp\" : \"010-4312-7856\", \"status\" : \"임시직\", \"retire_yn\" : \"N\" }\n",
    "{ \"_id\" : ObjectId(\"62f4524ffba69c083820ce47\"), \"name\" : \"ALLEN\", \"hp\" : \"010-5678-1234\", \"status\" : \"정규직\", \"retire_yn\" : \"N\" }\n",
    "{ \"_id\" : ObjectId(\"62f452b0fba69c083820ce48\"), \"name\" : \"SCOTT\", \"hp\" : \"010-1212-3434\", \"dept\" : \"개발팀\", \"status\" : \"정규직\", \"retire_yn\" : \"N\" }"
   ]
  },
  {
   "cell_type": "markdown",
   "id": "00bd6b27",
   "metadata": {},
   "source": [
    "# 6. 'emp' 컬렉션 'emp_python' 복제"
   ]
  },
  {
   "cell_type": "code",
   "execution_count": null,
   "id": "129b070e",
   "metadata": {},
   "outputs": [],
   "source": [
    "MongoDB Enterprise > show dbs\n",
    "admin   0.000GB\n",
    "config  0.000GB\n",
    "local   0.000GB\n",
    "mydb    0.000GB\n",
    "\n",
    "MongoDB Enterprise > show collections\n",
    "\n",
    "MongoDB Enterprise > use mydb\n",
    "switched to db mydb\n",
    "\n",
    "MongoDB Enterprise > show collections\n",
    "emp\n",
    "\n",
    "MongoDB Enterprise > db.emp.aggregate([{$out: \"emp_python\"}])\n",
    "\n",
    "MongoDB Enterprise > show collections\n",
    "emp\n",
    "emp_python\n",
    "\n",
    "MongoDB Enterprise > db.emp_python.count()\n",
    "3\n",
    "\n",
    "MongoDB Enterprise > db.emp_python.find()\n",
    "{ \"_id\" : ObjectId(\"62f4524ffba69c083820ce46\"), \"name\" : \"MARTIN\", \"hp\" : \"010-4312-7856\", \"status\" : \"임시직\", \"retire_yn\" : \"N\" }\n",
    "{ \"_id\" : ObjectId(\"62f4524ffba69c083820ce47\"), \"name\" : \"ALLEN\", \"hp\" : \"010-5678-1234\", \"status\" : \"정규직\", \"retire_yn\" : \"N\" }\n",
    "{ \"_id\" : ObjectId(\"62f452b0fba69c083820ce48\"), \"name\" : \"SCOTT\", \"hp\" : \"010-1212-3434\", \"dept\" : \"개발팀\", \"status\" : \"정규직\", \"retire_yn\" : \"N\" }\n",
    "\n",
    "MongoDB Enterprise > db.emp_python.insert({name:\"PYTHON\", hp:\"010-1111-2222\", status:\"임시직\", retire_yn:\"Y\"})\n",
    "WriteResult({ \"nInserted\" : 1 })\n",
    "\n",
    "MongoDB Enterprise > db.emp_python.find()\n",
    "{ \"_id\" : ObjectId(\"62f4524ffba69c083820ce46\"), \"name\" : \"MARTIN\", \"hp\" : \"010-4312-7856\", \"status\" : \"임시직\", \"retire_yn\" : \"N\" }\n",
    "{ \"_id\" : ObjectId(\"62f4524ffba69c083820ce47\"), \"name\" : \"ALLEN\", \"hp\" : \"010-5678-1234\", \"status\" : \"정규직\", \"retire_yn\" : \"N\" }\n",
    "{ \"_id\" : ObjectId(\"62f452b0fba69c083820ce48\"), \"name\" : \"SCOTT\", \"hp\" : \"010-1212-3434\", \"dept\" : \"개발팀\", \"status\" : \"정규직\", \"retire_yn\" : \"N\" }\n",
    "{ \"_id\" : ObjectId(\"62f4594987b9d9ca8666f7b7\"), \"name\" : \"PYTHON\", \"hp\" : \"010-1111-2222\", \"status\" : \"임시직\", \"retire_yn\" : \"Y\" }"
   ]
  },
  {
   "cell_type": "markdown",
   "id": "22f18681",
   "metadata": {},
   "source": [
    "**(참고) Export/Import 명령문**"
   ]
  },
  {
   "cell_type": "code",
   "execution_count": null,
   "id": "b8395f67",
   "metadata": {},
   "outputs": [],
   "source": [
    "mongoexport -d mydb -c emp --type=csv -o emp.csv --port 27017"
   ]
  },
  {
   "cell_type": "code",
   "execution_count": null,
   "id": "4faaa1db",
   "metadata": {},
   "outputs": [],
   "source": [
    "mongoimport -d mydb -c emp_python --type=csv -o emp.csv --port 27017"
   ]
  },
  {
   "cell_type": "markdown",
   "id": "6e9d6cbb",
   "metadata": {},
   "source": [
    "# 1. 파이썬 DB 접속"
   ]
  },
  {
   "cell_type": "markdown",
   "id": "10b63ec3",
   "metadata": {},
   "source": [
    "**1. pymongo 라이브러리 import**"
   ]
  },
  {
   "cell_type": "code",
   "execution_count": 3,
   "id": "3b3ee3d4",
   "metadata": {},
   "outputs": [
    {
     "name": "stdout",
     "output_type": "stream",
     "text": [
      "Collecting pymongo\n",
      "  Downloading pymongo-4.2.0-cp39-cp39-win_amd64.whl (374 kB)\n",
      "Installing collected packages: pymongo\n",
      "Successfully installed pymongo-4.2.0\n"
     ]
    }
   ],
   "source": [
    "!pip install pymongo"
   ]
  },
  {
   "cell_type": "markdown",
   "id": "87c062ed",
   "metadata": {},
   "source": [
    "* DB 정보 설정\n",
    "    * 로컬에서 서버가 돌아갈 경우\n",
    "        * mongo\n",
    "        * 예) pymongo.MongoClient()\n",
    "    * 원격 서버에 접속할 경우\n",
    "        * mongo --host 'host_address' --port 'port'\n",
    "        * 예) mongo --host 192.10.21.3 --port 27017"
   ]
  },
  {
   "cell_type": "markdown",
   "id": "307d5217",
   "metadata": {},
   "source": [
    "**2. mongodb 접속(주소)**"
   ]
  },
  {
   "cell_type": "code",
   "execution_count": 11,
   "id": "3c63bf50",
   "metadata": {},
   "outputs": [],
   "source": [
    "import pymongo\n",
    "conn = pymongo.MongoClient('mongodb://localhost:27017')"
   ]
  },
  {
   "cell_type": "markdown",
   "id": "505ecb57",
   "metadata": {},
   "source": [
    "# 2. 데이터 조회"
   ]
  },
  {
   "cell_type": "markdown",
   "id": "c747a43d",
   "metadata": {},
   "source": [
    "**3. database, collection 관리**"
   ]
  },
  {
   "cell_type": "code",
   "execution_count": 12,
   "id": "8a426dad",
   "metadata": {},
   "outputs": [
    {
     "data": {
      "text/plain": [
       "Database(MongoClient(host=['localhost:27017'], document_class=dict, tz_aware=False, connect=True), 'mydb')"
      ]
     },
     "execution_count": 12,
     "metadata": {},
     "output_type": "execute_result"
    }
   ],
   "source": [
    "# mydb Database 생성/사용 및 객체 선언\n",
    "mydb = conn.mydb\n",
    "mydb"
   ]
  },
  {
   "cell_type": "code",
   "execution_count": 13,
   "id": "e8529e24",
   "metadata": {},
   "outputs": [
    {
     "data": {
      "text/plain": [
       "Collection(Database(MongoClient(host=['localhost:27017'], document_class=dict, tz_aware=False, connect=True), 'mydb'), 'emp_python')"
      ]
     },
     "execution_count": 13,
     "metadata": {},
     "output_type": "execute_result"
    }
   ],
   "source": [
    "# Collection 생성 및 객체 선언\n",
    "emp_python = mydb.emp_python\n",
    "emp_python"
   ]
  },
  {
   "cell_type": "markdown",
   "id": "352d84e1",
   "metadata": {},
   "source": [
    "**4. 데이터 조회**"
   ]
  },
  {
   "cell_type": "markdown",
   "id": "4efa9124",
   "metadata": {},
   "source": [
    "- mongodb에 저장한 데이터들을 불러올 수 있다"
   ]
  },
  {
   "cell_type": "code",
   "execution_count": 14,
   "id": "d7c46ee1",
   "metadata": {},
   "outputs": [
    {
     "name": "stdout",
     "output_type": "stream",
     "text": [
      "{'_id': ObjectId('62f4524ffba69c083820ce46'), 'name': 'MARTIN', 'hp': '010-4312-7856', 'status': '임시직', 'retire_yn': 'N'}\n",
      "{'_id': ObjectId('62f4524ffba69c083820ce47'), 'name': 'ALLEN', 'hp': '010-5678-1234', 'status': '정규직', 'retire_yn': 'N'}\n",
      "{'_id': ObjectId('62f452b0fba69c083820ce48'), 'name': 'SCOTT', 'hp': '010-1212-3434', 'dept': '개발팀', 'status': '정규직', 'retire_yn': 'N'}\n",
      "{'_id': ObjectId('62f4594987b9d9ca8666f7b7'), 'name': 'PYTHON', 'hp': '010-1111-2222', 'status': '임시직', 'retire_yn': 'Y'}\n"
     ]
    }
   ],
   "source": [
    "# emp_python 컬렉션 데이터 조회 (4건)\n",
    "for i in emp_python.find():\n",
    "    print(i)"
   ]
  },
  {
   "cell_type": "markdown",
   "id": "adf95644",
   "metadata": {},
   "source": [
    "# 3. 데이터 변경 - INSERT"
   ]
  },
  {
   "cell_type": "markdown",
   "id": "6b3fc0ce",
   "metadata": {},
   "source": [
    "**5. 데이터 입력(Insert)**\n",
    "* InsertOne : 한개의 document 생성\n",
    "* InsertMany : list of document 생성"
   ]
  },
  {
   "cell_type": "code",
   "execution_count": 15,
   "id": "43ec4f52",
   "metadata": {
    "scrolled": false
   },
   "outputs": [
    {
     "name": "stdout",
     "output_type": "stream",
     "text": [
      "{'_id': ObjectId('62f4524ffba69c083820ce46'), 'name': 'MARTIN', 'hp': '010-4312-7856', 'status': '임시직', 'retire_yn': 'N'}\n",
      "{'_id': ObjectId('62f4524ffba69c083820ce47'), 'name': 'ALLEN', 'hp': '010-5678-1234', 'status': '정규직', 'retire_yn': 'N'}\n",
      "{'_id': ObjectId('62f452b0fba69c083820ce48'), 'name': 'SCOTT', 'hp': '010-1212-3434', 'dept': '개발팀', 'status': '정규직', 'retire_yn': 'N'}\n",
      "{'_id': ObjectId('62f4594987b9d9ca8666f7b7'), 'name': 'PYTHON', 'hp': '010-1111-2222', 'status': '임시직', 'retire_yn': 'Y'}\n",
      "{'_id': ObjectId('62f45d6a096e7c99c03ce7bf'), 'name': '박나래', 'age': 34, 'dept': '아티스트팀'}\n",
      "{'_id': ObjectId('62f45d6a096e7c99c03ce7c0'), 'name': '전현무', 'age': 43, 'dept': '아티스트팀'}\n",
      "{'_id': ObjectId('62f45d6a096e7c99c03ce7c1'), 'name': '화사', 'age': 29, 'dept': '아티스트팀'}\n"
     ]
    }
   ],
   "source": [
    "# 한개 이상의 데이터 입력\n",
    "\n",
    "emp_python.insert_many(\n",
    "[\n",
    "    { 'name':'박나래', 'age':34, 'dept':'아티스트팀' },\n",
    "    { 'name':'전현무', 'age':43, 'dept':'아티스트팀' },\n",
    "    { 'name':'화사', 'age':29, 'dept':'아티스트팀' },\n",
    "    \n",
    "]\n",
    ")\n",
    "\n",
    "for i in emp_python.find():\n",
    "    print(i)"
   ]
  },
  {
   "cell_type": "markdown",
   "id": "ec2dfb51",
   "metadata": {},
   "source": [
    "# 데이터 변경 - UPDATE"
   ]
  },
  {
   "cell_type": "markdown",
   "id": "696bb68c",
   "metadata": {},
   "source": [
    "**6. 데이터 변경(Update/Modify)**\n",
    "* update_one : 매칭되는 한개의 document 업데이트\n",
    "* update_many : 매칭되는 list of document 업데이트"
   ]
  },
  {
   "cell_type": "code",
   "execution_count": 20,
   "id": "06dde749",
   "metadata": {},
   "outputs": [
    {
     "name": "stdout",
     "output_type": "stream",
     "text": [
      "{'_id': ObjectId('62f45d6a096e7c99c03ce7bf'), 'name': '박나래', 'age': 34, 'dept': '아티스트팀'}\n",
      "{'_id': ObjectId('62f45d6a096e7c99c03ce7c0'), 'name': '전현무', 'age': 46, 'dept': '아티스트팀'}\n"
     ]
    }
   ],
   "source": [
    "# 나이가 30살 이상만 불러오기\n",
    "for i in emp_python.find( {\"age\": {\"$gt\" : 30} }):\n",
    "    print(i)"
   ]
  },
  {
   "cell_type": "code",
   "execution_count": 21,
   "id": "d7ba9efa",
   "metadata": {},
   "outputs": [
    {
     "data": {
      "text/plain": [
       "<pymongo.results.UpdateResult at 0x1e17472fb20>"
      ]
     },
     "execution_count": 21,
     "metadata": {},
     "output_type": "execute_result"
    }
   ],
   "source": [
    "# 나이가 30살 이상만 불러와서 나이에 5 추가(더해주기)\n",
    "emp_python.update_many({\"age\": {\"$gt\":30}}, {\"$inc\": {\"age\":5}})"
   ]
  },
  {
   "cell_type": "code",
   "execution_count": 22,
   "id": "de215df7",
   "metadata": {},
   "outputs": [
    {
     "name": "stdout",
     "output_type": "stream",
     "text": [
      "{'_id': ObjectId('62f45d6a096e7c99c03ce7bf'), 'name': '박나래', 'age': 39, 'dept': '아티스트팀'}\n",
      "{'_id': ObjectId('62f45d6a096e7c99c03ce7c0'), 'name': '전현무', 'age': 51, 'dept': '아티스트팀'}\n"
     ]
    }
   ],
   "source": [
    "for i in emp_python.find( {\"age\" : {\"$gt\" : 30}}):\n",
    "    print(i)"
   ]
  },
  {
   "cell_type": "markdown",
   "id": "d80fe2ec",
   "metadata": {},
   "source": [
    "# 데이터 변경 - DELETE"
   ]
  },
  {
   "cell_type": "markdown",
   "id": "91403187",
   "metadata": {},
   "source": [
    "**6. 데이터 삭제(Delete)**\n",
    "* remove_one : 매칭되는 한개의 document 삭제\n",
    "* remove_many : 매칭되는 list of document 삭제"
   ]
  },
  {
   "cell_type": "code",
   "execution_count": 23,
   "id": "fbdce4d0",
   "metadata": {},
   "outputs": [
    {
     "data": {
      "text/plain": [
       "<pymongo.results.DeleteResult at 0x1e17412e6d0>"
      ]
     },
     "execution_count": 23,
     "metadata": {},
     "output_type": "execute_result"
    }
   ],
   "source": [
    "emp_python.delete_many({\"name\":\"전현무\"})"
   ]
  },
  {
   "cell_type": "code",
   "execution_count": 24,
   "id": "abce541b",
   "metadata": {},
   "outputs": [],
   "source": [
    "result = emp_python.find()"
   ]
  },
  {
   "cell_type": "code",
   "execution_count": 25,
   "id": "76db6441",
   "metadata": {},
   "outputs": [
    {
     "name": "stdout",
     "output_type": "stream",
     "text": [
      "{'_id': ObjectId('62f4524ffba69c083820ce46'), 'name': 'MARTIN', 'hp': '010-4312-7856', 'status': '임시직', 'retire_yn': 'N'}\n",
      "{'_id': ObjectId('62f4524ffba69c083820ce47'), 'name': 'ALLEN', 'hp': '010-5678-1234', 'status': '정규직', 'retire_yn': 'N'}\n",
      "{'_id': ObjectId('62f452b0fba69c083820ce48'), 'name': 'SCOTT', 'hp': '010-1212-3434', 'dept': '개발팀', 'status': '정규직', 'retire_yn': 'N'}\n",
      "{'_id': ObjectId('62f4594987b9d9ca8666f7b7'), 'name': 'PYTHON', 'hp': '010-1111-2222', 'status': '임시직', 'retire_yn': 'Y'}\n",
      "{'_id': ObjectId('62f45d6a096e7c99c03ce7bf'), 'name': '박나래', 'age': 39, 'dept': '아티스트팀'}\n",
      "{'_id': ObjectId('62f45d6a096e7c99c03ce7c1'), 'name': '화사', 'age': 29, 'dept': '아티스트팀'}\n"
     ]
    }
   ],
   "source": [
    "for r in result:\n",
    "    print(r)"
   ]
  },
  {
   "cell_type": "code",
   "execution_count": 26,
   "id": "afdb9cd7",
   "metadata": {
    "scrolled": true
   },
   "outputs": [
    {
     "name": "stdout",
     "output_type": "stream",
     "text": [
      "{'name': 'MARTIN', 'hp': '010-4312-7856', 'status': '임시직', 'retire_yn': 'N'}\n",
      "{'name': 'ALLEN', 'hp': '010-5678-1234', 'status': '정규직', 'retire_yn': 'N'}\n",
      "{'name': 'SCOTT', 'hp': '010-1212-3434', 'dept': '개발팀', 'status': '정규직', 'retire_yn': 'N'}\n",
      "{'name': 'PYTHON', 'hp': '010-1111-2222', 'status': '임시직', 'retire_yn': 'Y'}\n"
     ]
    }
   ],
   "source": [
    "result = emp_python.find({}, {\"_id\" : 0}).limit(4)\n",
    "for r in result:\n",
    "    print(r)"
   ]
  },
  {
   "cell_type": "markdown",
   "id": "f875c7e0",
   "metadata": {},
   "source": [
    "# 4. 컬렉션 변경 - RENAME"
   ]
  },
  {
   "cell_type": "markdown",
   "id": "19ed0859",
   "metadata": {},
   "source": [
    "**8. 컬럼명 변경**"
   ]
  },
  {
   "cell_type": "code",
   "execution_count": 27,
   "id": "8d91200d",
   "metadata": {},
   "outputs": [
    {
     "data": {
      "text/plain": [
       "<pymongo.results.UpdateResult at 0x1e17472fac0>"
      ]
     },
     "execution_count": 27,
     "metadata": {},
     "output_type": "execute_result"
    }
   ],
   "source": [
    "emp_python.update_many( {}, {\"$rename\":{\"dept\":\"unit\"}})"
   ]
  },
  {
   "cell_type": "code",
   "execution_count": 29,
   "id": "c4901a10",
   "metadata": {},
   "outputs": [
    {
     "name": "stdout",
     "output_type": "stream",
     "text": [
      "{'_id': ObjectId('62f4524ffba69c083820ce46')}\n",
      "{'_id': ObjectId('62f4524ffba69c083820ce47')}\n",
      "{'_id': ObjectId('62f452b0fba69c083820ce48'), 'unit': '개발팀'}\n",
      "{'_id': ObjectId('62f4594987b9d9ca8666f7b7')}\n",
      "{'_id': ObjectId('62f45d6a096e7c99c03ce7bf'), 'unit': '아티스트팀'}\n",
      "{'_id': ObjectId('62f45d6a096e7c99c03ce7c1'), 'unit': '아티스트팀'}\n"
     ]
    }
   ],
   "source": [
    "result = emp_python.find({}, {\"unit\":1})\n",
    "for r in result:\n",
    "    print(r)"
   ]
  },
  {
   "cell_type": "markdown",
   "id": "b6bd2680",
   "metadata": {},
   "source": [
    "# 5. INDEX 관리"
   ]
  },
  {
   "cell_type": "markdown",
   "id": "f6bfec01",
   "metadata": {},
   "source": [
    "**8. Index 관리**"
   ]
  },
  {
   "cell_type": "code",
   "execution_count": 30,
   "id": "695a20f5",
   "metadata": {},
   "outputs": [
    {
     "data": {
      "text/plain": [
       "'name_text_hp_1'"
      ]
     },
     "execution_count": 30,
     "metadata": {},
     "output_type": "execute_result"
    }
   ],
   "source": [
    "emp_python.create_index([('name', pymongo.TEXT), ('hp', pymongo.ASCENDING)])"
   ]
  },
  {
   "cell_type": "code",
   "execution_count": 31,
   "id": "d7006feb",
   "metadata": {},
   "outputs": [
    {
     "data": {
      "text/plain": [
       "{'_id_': {'v': 2, 'key': [('_id', 1)]},\n",
       " 'name_text_hp_1': {'v': 2,\n",
       "  'key': [('_fts', 'text'), ('_ftsx', 1), ('hp', 1)],\n",
       "  'weights': SON([('name', 1)]),\n",
       "  'default_language': 'english',\n",
       "  'language_override': 'language',\n",
       "  'textIndexVersion': 3}}"
      ]
     },
     "execution_count": 31,
     "metadata": {},
     "output_type": "execute_result"
    }
   ],
   "source": [
    "# 관련된 index 정보들을 보여줌\n",
    "emp_python.index_information()"
   ]
  },
  {
   "cell_type": "code",
   "execution_count": 32,
   "id": "b2cd8109",
   "metadata": {},
   "outputs": [
    {
     "name": "stdout",
     "output_type": "stream",
     "text": [
      "{'_id': ObjectId('62f4524ffba69c083820ce47'), 'name': 'ALLEN', 'hp': '010-5678-1234', 'status': '정규직', 'retire_yn': 'N'}\n",
      "{'_id': ObjectId('62f45d6a096e7c99c03ce7bf'), 'name': '박나래', 'age': 39, 'unit': '아티스트팀'}\n"
     ]
    }
   ],
   "source": [
    "# 띄어쓰기가 있는 경우\n",
    "result = emp_python.find({'$text':{'$search' : '박나래 ALLEN'}})\n",
    "for record in result:\n",
    "    print(record)"
   ]
  }
 ],
 "metadata": {
  "kernelspec": {
   "display_name": "Python 3 (ipykernel)",
   "language": "python",
   "name": "python3"
  },
  "language_info": {
   "codemirror_mode": {
    "name": "ipython",
    "version": 3
   },
   "file_extension": ".py",
   "mimetype": "text/x-python",
   "name": "python",
   "nbconvert_exporter": "python",
   "pygments_lexer": "ipython3",
   "version": "3.9.7"
  }
 },
 "nbformat": 4,
 "nbformat_minor": 5
}
